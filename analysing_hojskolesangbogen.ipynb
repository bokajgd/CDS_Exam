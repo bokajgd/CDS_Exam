{
 "metadata": {
  "language_info": {
   "codemirror_mode": {
    "name": "ipython",
    "version": 3
   },
   "file_extension": ".py",
   "mimetype": "text/x-python",
   "name": "python",
   "nbconvert_exporter": "python",
   "pygments_lexer": "ipython3",
   "version": "3.8.5-final"
  },
  "orig_nbformat": 2,
  "kernelspec": {
   "name": "python3",
   "display_name": "Python 3",
   "language": "python"
  }
 },
 "nbformat": 4,
 "nbformat_minor": 2,
 "cells": [
  {
   "source": [
    "# Analysing the Danish Højskolesangbog\n",
    "** An exam project for Cultural Data Science at the Faculty of Arts, AU **\n",
    "\\ \n",
    "This script contains the code for scraping data from højskolesangbogen.dk and transforming it into a clean data set containing song lyrics, title, metadata and word count vectors"
   ],
   "cell_type": "markdown",
   "metadata": {}
  },
  {
   "cell_type": "code",
   "execution_count": 180,
   "metadata": {},
   "outputs": [
    {
     "output_type": "stream",
     "name": "stderr",
     "text": [
      "[nltk_data] Downloading package punkt to\n[nltk_data]     /Users/jakobgrohn/nltk_data...\n[nltk_data]   Package punkt is already up-to-date!\n"
     ]
    }
   ],
   "source": [
    "# Importing libraries and dependencies\n",
    "import numpy as np\n",
    "import pandas as pd\n",
    "import re\n",
    "\n",
    "import joblib\n",
    "\n",
    "import requests\n",
    "from bs4 import BeautifulSoup\n",
    "\n",
    "import string\n",
    "import nltk\n",
    "from nltk import word_tokenize\n",
    "nltk.download('punkt')\n",
    "from sklearn.feature_extraction.text import CountVectorizer"
   ]
  },
  {
   "source": [
    "# Obtaining digital versions of song lyrics from højskolesangbogen.dk using automated webscraping"
   ],
   "cell_type": "markdown",
   "metadata": {}
  },
  {
   "cell_type": "code",
   "execution_count": 2,
   "metadata": {},
   "outputs": [],
   "source": [
    "# Importing first column from csv file containing URLs from hojskolesangbogen\n",
    "urls = pd.read_csv('Data/song_urls.csv', usecols=[0])"
   ]
  },
  {
   "cell_type": "code",
   "execution_count": 3,
   "metadata": {},
   "outputs": [
    {
     "output_type": "stream",
     "name": "stdout",
     "text": [
      "range(0, 593)\n"
     ]
    },
    {
     "output_type": "execute_result",
     "data": {
      "text/plain": [
       "                                                Link\n",
       "0  https://www.hojskolesangbogen.dk/om-sangbogen/...\n",
       "1  https://www.hojskolesangbogen.dk/om-sangbogen/...\n",
       "2  https://www.hojskolesangbogen.dk/om-sangbogen/...\n",
       "3  https://www.hojskolesangbogen.dk/om-sangbogen/...\n",
       "4  https://www.hojskolesangbogen.dk/om-sangbogen/..."
      ],
      "text/html": "<div>\n<style scoped>\n    .dataframe tbody tr th:only-of-type {\n        vertical-align: middle;\n    }\n\n    .dataframe tbody tr th {\n        vertical-align: top;\n    }\n\n    .dataframe thead th {\n        text-align: right;\n    }\n</style>\n<table border=\"1\" class=\"dataframe\">\n  <thead>\n    <tr style=\"text-align: right;\">\n      <th></th>\n      <th>Link</th>\n    </tr>\n  </thead>\n  <tbody>\n    <tr>\n      <th>0</th>\n      <td>https://www.hojskolesangbogen.dk/om-sangbogen/...</td>\n    </tr>\n    <tr>\n      <th>1</th>\n      <td>https://www.hojskolesangbogen.dk/om-sangbogen/...</td>\n    </tr>\n    <tr>\n      <th>2</th>\n      <td>https://www.hojskolesangbogen.dk/om-sangbogen/...</td>\n    </tr>\n    <tr>\n      <th>3</th>\n      <td>https://www.hojskolesangbogen.dk/om-sangbogen/...</td>\n    </tr>\n    <tr>\n      <th>4</th>\n      <td>https://www.hojskolesangbogen.dk/om-sangbogen/...</td>\n    </tr>\n  </tbody>\n</table>\n</div>"
     },
     "metadata": {},
     "execution_count": 3
    }
   ],
   "source": [
    "# Inspecting data to insure everything is correct\n",
    "print(range(len(urls)))\n",
    "urls.head()"
   ]
  },
  {
   "cell_type": "code",
   "execution_count": 144,
   "metadata": {},
   "outputs": [],
   "source": [
    "# Creating a smaller subset of the urls\n",
    "urls_sub = urls.head(100)"
   ]
  },
  {
   "cell_type": "code",
   "execution_count": 230,
   "metadata": {},
   "outputs": [],
   "source": [
    "# Creating empty df for lyrics\n",
    "song_lyrics_df = pd.DataFrame(columns = ['lyrics', 'title'])\n",
    "\n",
    "# Loop through each url\n",
    "for n in range(len(urls)):\n",
    "    song_url = requests.get(str(urls.iat[n,0])) \n",
    "    soup = BeautifulSoup(song_url.content, 'html.parser')\n",
    "    song_title = soup.select('h1')[0].text.strip() # Find title (first h1)\n",
    "    song_lyrics = '' # Create empty string for lyrics\n",
    "    for i in range(len(soup.select('h2,.caption'))): # Loop through all h2 and .caption elements \n",
    "        element_text = soup.select('h2,.caption')[i].text.strip() \n",
    "        if element_text == song_title: # If element is identical to title, this must be the title of the box containing song lyrics\n",
    "            song_lyrics += soup.select('h2,.caption')[i-1].text.strip() # Add the element before to the variable containing lyrics\n",
    "    song_lyrics_df.loc[n] = [song_lyrics] + [song_title]"
   ]
  },
  {
   "cell_type": "code",
   "execution_count": 231,
   "metadata": {},
   "outputs": [],
   "source": [
    "# Removing white spaces\n",
    "song_lyrics_df['lyrics'] = song_lyrics_df['lyrics'].str.replace('\\n',' ')\n",
    "song_lyrics_df['lyrics'] = song_lyrics_df['lyrics'].str.replace('\\r',' ')\n",
    "song_lyrics_df['lyrics'] = song_lyrics_df['lyrics'].str.replace('\\t',' ')"
   ]
  },
  {
   "cell_type": "code",
   "execution_count": 232,
   "metadata": {},
   "outputs": [
    {
     "output_type": "execute_result",
     "data": {
      "text/plain": [
       "173"
      ]
     },
     "metadata": {},
     "execution_count": 232
    }
   ],
   "source": [
    "# Coutning number of songs missing lyrics\n",
    "len(song_lyrics_df[song_lyrics_df['lyrics'] == ''])   "
   ]
  },
  {
   "cell_type": "code",
   "execution_count": 233,
   "metadata": {},
   "outputs": [],
   "source": [
    "# Creating empty df for data about song composition\n",
    "song_data_df = pd.DataFrame(columns = ['text','melody'])\n",
    "\n",
    "# Loop through all URLS\n",
    "for n in range(len(urls)):\n",
    "    song_url = requests.get(str(urls.iat[n,0])) \n",
    "    soup = BeautifulSoup(song_url.content, 'html.parser')\n",
    "    song_melody = '' # Create empty string for data about melody\n",
    "    song_text = '' # Create empty string for data about writing of the song\n",
    "    for i in range(len(soup.select('p'))): # Loop through all 'p' elements\n",
    "        # If element starts with 'Melodi:' or 'Melodier:' or 'Komponist then\n",
    "        if soup.select('p')[i].text.startswith('Melodi:') or soup.select('p')[i].text.startswith('Melodier:') or soup.select('p')[i].text.startswith('Komponist:'): \n",
    "            song_melody += soup.select('p')[i].text.strip() # add to the variable containing data about melody\n",
    "         # Same procedure for data about the writing of the song\n",
    "        if soup.select('p')[i].text.startswith('Tekst:') or soup.select('p')[i].text.startswith('Tekster:') or soup.select('p')[i].text.startswith('Forfatter:'):\n",
    "            song_text += soup.select('p')[i].text.strip()\n",
    "        # If element starts with 'Tekst og melodi:' than add same data to both variables\n",
    "        if soup.select('p')[i].text.startswith('Tekst og melodi:'):\n",
    "            song_text += soup.select('p')[i].text.strip()\n",
    "            song_melody += soup.select('p')[i].text.strip()\n",
    "    song_data_df.loc[n] = [song_text] + [song_melody] # Add strings containing relevant data to the data frame"
   ]
  },
  {
   "cell_type": "code",
   "execution_count": 234,
   "metadata": {},
   "outputs": [
    {
     "output_type": "execute_result",
     "data": {
      "text/plain": [
       "                                   text  \\\n",
       "0         Tekst: N.F.S. Grundtvig, 1826   \n",
       "1   Tekst: Hans Christensen Sthen, 1589   \n",
       "2             Tekst: Thomas Kingo, 1674   \n",
       "3             Tekst: Thomas Kingo, 1674   \n",
       "4         Tekst: N.F.S. Grundtvig, 1833   \n",
       "5         Tekst: N.F.S. Grundtvig, 1853   \n",
       "6            Tekst: B.S. Ingemann, 1937   \n",
       "7            Tekst: B.S. Ingemann, 1837   \n",
       "8       Forfatter: B. S. Ingemann, 1837   \n",
       "9            Tekst: B.S. Ingemann, 1837   \n",
       "10           Tekst: B.S. Ingemann, 1837   \n",
       "11           Tekst: B.S. Ingemann, 1837   \n",
       "\n",
       "                                             melody  \n",
       "0   Melodi: C.E.F. Weyse, 1826 og Erik Sommer, 1983  \n",
       "1                      Melodi: August Winding, 1874  \n",
       "2   Melodier: H.O.C. Zinck, 1801 (eller som nr. 20)  \n",
       "3                             Melodi: Hamburg, 1690  \n",
       "4                           Melodi: Oluf Ring, 1932  \n",
       "5                         Melodi: Thomas Laub, 1916  \n",
       "6                        Melodi: C.E.F. Weyse, 1937  \n",
       "7                        Melodi: C.E.F. Weyse, 1837  \n",
       "8                     Komponist: C.E.F. Weyse, 1837  \n",
       "9                        Melodi: C.E.F. Weyse, 1837  \n",
       "10                       Melodi: C.E.F. Weyse, 1837  \n",
       "11                       Melodi: C.E.F. Weyse, 1837  "
      ],
      "text/html": "<div>\n<style scoped>\n    .dataframe tbody tr th:only-of-type {\n        vertical-align: middle;\n    }\n\n    .dataframe tbody tr th {\n        vertical-align: top;\n    }\n\n    .dataframe thead th {\n        text-align: right;\n    }\n</style>\n<table border=\"1\" class=\"dataframe\">\n  <thead>\n    <tr style=\"text-align: right;\">\n      <th></th>\n      <th>text</th>\n      <th>melody</th>\n    </tr>\n  </thead>\n  <tbody>\n    <tr>\n      <th>0</th>\n      <td>Tekst: N.F.S. Grundtvig, 1826</td>\n      <td>Melodi: C.E.F. Weyse, 1826 og Erik Sommer, 1983</td>\n    </tr>\n    <tr>\n      <th>1</th>\n      <td>Tekst: Hans Christensen Sthen, 1589</td>\n      <td>Melodi: August Winding, 1874</td>\n    </tr>\n    <tr>\n      <th>2</th>\n      <td>Tekst: Thomas Kingo, 1674</td>\n      <td>Melodier: H.O.C. Zinck, 1801 (eller som nr. 20)</td>\n    </tr>\n    <tr>\n      <th>3</th>\n      <td>Tekst: Thomas Kingo, 1674</td>\n      <td>Melodi: Hamburg, 1690</td>\n    </tr>\n    <tr>\n      <th>4</th>\n      <td>Tekst: N.F.S. Grundtvig, 1833</td>\n      <td>Melodi: Oluf Ring, 1932</td>\n    </tr>\n    <tr>\n      <th>5</th>\n      <td>Tekst: N.F.S. Grundtvig, 1853</td>\n      <td>Melodi: Thomas Laub, 1916</td>\n    </tr>\n    <tr>\n      <th>6</th>\n      <td>Tekst: B.S. Ingemann, 1937</td>\n      <td>Melodi: C.E.F. Weyse, 1937</td>\n    </tr>\n    <tr>\n      <th>7</th>\n      <td>Tekst: B.S. Ingemann, 1837</td>\n      <td>Melodi: C.E.F. Weyse, 1837</td>\n    </tr>\n    <tr>\n      <th>8</th>\n      <td>Forfatter: B. S. Ingemann, 1837</td>\n      <td>Komponist: C.E.F. Weyse, 1837</td>\n    </tr>\n    <tr>\n      <th>9</th>\n      <td>Tekst: B.S. Ingemann, 1837</td>\n      <td>Melodi: C.E.F. Weyse, 1837</td>\n    </tr>\n    <tr>\n      <th>10</th>\n      <td>Tekst: B.S. Ingemann, 1837</td>\n      <td>Melodi: C.E.F. Weyse, 1837</td>\n    </tr>\n    <tr>\n      <th>11</th>\n      <td>Tekst: B.S. Ingemann, 1837</td>\n      <td>Melodi: C.E.F. Weyse, 1837</td>\n    </tr>\n  </tbody>\n</table>\n</div>"
     },
     "metadata": {},
     "execution_count": 234
    }
   ],
   "source": [
    "# Inspecting the result\n",
    "song_data_df.head(12)"
   ]
  },
  {
   "cell_type": "code",
   "execution_count": 235,
   "metadata": {},
   "outputs": [],
   "source": [
    "# Removing unwanted parts of stirngs\n",
    "song_data_df['melody'] = song_data_df['melody'].str.replace('Tekst og melodi:', '').str.replace('Melodi:', '').str.replace('Melodier:','').str.replace('Komponist:','')\n",
    "song_data_df['text'] = song_data_df['text'].str.replace('Tekst og melodi:', '').str.replace('Tekst:', '').str.replace('Tekster:','').str.replace('Forfatter:','').str.replace('fra 2. århundrede', '200')\n",
    "\n",
    "# Loop through and remove secondary composer and writer\n",
    "#for i in range(len(song_data_df['melody'])):\n",
    "#    if 'og' in song_data_df['melody'][i]:\n",
    "#        song_data_df['melody'][i] = song_data_df['melody'][i].split(' og ', 1)[0]\n",
    "#    if 'og' in song_data_df['text'][i]:\n",
    "#        song_data_df['text'][i] = song_data_df['text'][i].split(' og ', 1)[0]\n",
    "#    if 'oversat af' in song_data_df['text'][i]:\n",
    "#        song_data_df['text'][i] = song_data_df['text'][i].split('oversat af', 1)[0]"
   ]
  },
  {
   "cell_type": "code",
   "execution_count": 236,
   "metadata": {},
   "outputs": [
    {
     "output_type": "execute_result",
     "data": {
      "text/plain": [
       "                             text                                    melody\n",
       "0          N.F.S. Grundtvig, 1826   C.E.F. Weyse, 1826 og Erik Sommer, 1983\n",
       "1    Hans Christensen Sthen, 1589                      August Winding, 1874\n",
       "2              Thomas Kingo, 1674     H.O.C. Zinck, 1801 (eller som nr. 20)\n",
       "3              Thomas Kingo, 1674                             Hamburg, 1690\n",
       "4          N.F.S. Grundtvig, 1833                           Oluf Ring, 1932\n",
       "5          N.F.S. Grundtvig, 1853                         Thomas Laub, 1916\n",
       "6             B.S. Ingemann, 1937                        C.E.F. Weyse, 1937\n",
       "7             B.S. Ingemann, 1837                        C.E.F. Weyse, 1837\n",
       "8            B. S. Ingemann, 1837                        C.E.F. Weyse, 1837\n",
       "9             B.S. Ingemann, 1837                        C.E.F. Weyse, 1837\n",
       "10            B.S. Ingemann, 1837                        C.E.F. Weyse, 1837"
      ],
      "text/html": "<div>\n<style scoped>\n    .dataframe tbody tr th:only-of-type {\n        vertical-align: middle;\n    }\n\n    .dataframe tbody tr th {\n        vertical-align: top;\n    }\n\n    .dataframe thead th {\n        text-align: right;\n    }\n</style>\n<table border=\"1\" class=\"dataframe\">\n  <thead>\n    <tr style=\"text-align: right;\">\n      <th></th>\n      <th>text</th>\n      <th>melody</th>\n    </tr>\n  </thead>\n  <tbody>\n    <tr>\n      <th>0</th>\n      <td>N.F.S. Grundtvig, 1826</td>\n      <td>C.E.F. Weyse, 1826 og Erik Sommer, 1983</td>\n    </tr>\n    <tr>\n      <th>1</th>\n      <td>Hans Christensen Sthen, 1589</td>\n      <td>August Winding, 1874</td>\n    </tr>\n    <tr>\n      <th>2</th>\n      <td>Thomas Kingo, 1674</td>\n      <td>H.O.C. Zinck, 1801 (eller som nr. 20)</td>\n    </tr>\n    <tr>\n      <th>3</th>\n      <td>Thomas Kingo, 1674</td>\n      <td>Hamburg, 1690</td>\n    </tr>\n    <tr>\n      <th>4</th>\n      <td>N.F.S. Grundtvig, 1833</td>\n      <td>Oluf Ring, 1932</td>\n    </tr>\n    <tr>\n      <th>5</th>\n      <td>N.F.S. Grundtvig, 1853</td>\n      <td>Thomas Laub, 1916</td>\n    </tr>\n    <tr>\n      <th>6</th>\n      <td>B.S. Ingemann, 1937</td>\n      <td>C.E.F. Weyse, 1937</td>\n    </tr>\n    <tr>\n      <th>7</th>\n      <td>B.S. Ingemann, 1837</td>\n      <td>C.E.F. Weyse, 1837</td>\n    </tr>\n    <tr>\n      <th>8</th>\n      <td>B. S. Ingemann, 1837</td>\n      <td>C.E.F. Weyse, 1837</td>\n    </tr>\n    <tr>\n      <th>9</th>\n      <td>B.S. Ingemann, 1837</td>\n      <td>C.E.F. Weyse, 1837</td>\n    </tr>\n    <tr>\n      <th>10</th>\n      <td>B.S. Ingemann, 1837</td>\n      <td>C.E.F. Weyse, 1837</td>\n    </tr>\n  </tbody>\n</table>\n</div>"
     },
     "metadata": {},
     "execution_count": 236
    }
   ],
   "source": [
    "# Inspecting data to see if it looks fine\n",
    "song_data_df.head(11)"
   ]
  },
  {
   "cell_type": "code",
   "execution_count": 237,
   "metadata": {},
   "outputs": [],
   "source": [
    "# Splitting each column into two seperate columns\n",
    "song_data_df = pd.concat([song_data_df['text'].str.split(',', expand=True), song_data_df['melody'].str.split(',', expand=True)], axis=1)"
   ]
  },
  {
   "cell_type": "code",
   "execution_count": 240,
   "metadata": {},
   "outputs": [
    {
     "output_type": "execute_result",
     "data": {
      "text/plain": [
       "                           0      1                         0  \\\n",
       "0           N.F.S. Grundtvig   1826              C.E.F. Weyse   \n",
       "1     Hans Christensen Sthen   1589            August Winding   \n",
       "2               Thomas Kingo   1674              H.O.C. Zinck   \n",
       "3               Thomas Kingo   1674                   Hamburg   \n",
       "4           N.F.S. Grundtvig   1833                 Oluf Ring   \n",
       "..                       ...    ...                       ...   \n",
       "588              Ole Hyltoft   2008           Michael Bojesen   \n",
       "589          Suzanne Brøgger   2004   Katrine Muff Enevoldsen   \n",
       "590                            None                             \n",
       "591        Halfdan Rasmussen   1954     Bent Fabricius-Bjerre   \n",
       "592           Fritz Andersen   1868         Dansk folkemelodi   \n",
       "\n",
       "                            1  \n",
       "0         1826 og Erik Sommer  \n",
       "1                        1874  \n",
       "2     1801 (eller som nr. 20)  \n",
       "3                        1690  \n",
       "4                        1932  \n",
       "..                        ...  \n",
       "588                      2009  \n",
       "589                      2016  \n",
       "590                      None  \n",
       "591                      2015  \n",
       "592                      None  \n",
       "\n",
       "[593 rows x 4 columns]"
      ],
      "text/html": "<div>\n<style scoped>\n    .dataframe tbody tr th:only-of-type {\n        vertical-align: middle;\n    }\n\n    .dataframe tbody tr th {\n        vertical-align: top;\n    }\n\n    .dataframe thead th {\n        text-align: right;\n    }\n</style>\n<table border=\"1\" class=\"dataframe\">\n  <thead>\n    <tr style=\"text-align: right;\">\n      <th></th>\n      <th>0</th>\n      <th>1</th>\n      <th>0</th>\n      <th>1</th>\n    </tr>\n  </thead>\n  <tbody>\n    <tr>\n      <th>0</th>\n      <td>N.F.S. Grundtvig</td>\n      <td>1826</td>\n      <td>C.E.F. Weyse</td>\n      <td>1826 og Erik Sommer</td>\n    </tr>\n    <tr>\n      <th>1</th>\n      <td>Hans Christensen Sthen</td>\n      <td>1589</td>\n      <td>August Winding</td>\n      <td>1874</td>\n    </tr>\n    <tr>\n      <th>2</th>\n      <td>Thomas Kingo</td>\n      <td>1674</td>\n      <td>H.O.C. Zinck</td>\n      <td>1801 (eller som nr. 20)</td>\n    </tr>\n    <tr>\n      <th>3</th>\n      <td>Thomas Kingo</td>\n      <td>1674</td>\n      <td>Hamburg</td>\n      <td>1690</td>\n    </tr>\n    <tr>\n      <th>4</th>\n      <td>N.F.S. Grundtvig</td>\n      <td>1833</td>\n      <td>Oluf Ring</td>\n      <td>1932</td>\n    </tr>\n    <tr>\n      <th>...</th>\n      <td>...</td>\n      <td>...</td>\n      <td>...</td>\n      <td>...</td>\n    </tr>\n    <tr>\n      <th>588</th>\n      <td>Ole Hyltoft</td>\n      <td>2008</td>\n      <td>Michael Bojesen</td>\n      <td>2009</td>\n    </tr>\n    <tr>\n      <th>589</th>\n      <td>Suzanne Brøgger</td>\n      <td>2004</td>\n      <td>Katrine Muff Enevoldsen</td>\n      <td>2016</td>\n    </tr>\n    <tr>\n      <th>590</th>\n      <td></td>\n      <td>None</td>\n      <td></td>\n      <td>None</td>\n    </tr>\n    <tr>\n      <th>591</th>\n      <td>Halfdan Rasmussen</td>\n      <td>1954</td>\n      <td>Bent Fabricius-Bjerre</td>\n      <td>2015</td>\n    </tr>\n    <tr>\n      <th>592</th>\n      <td>Fritz Andersen</td>\n      <td>1868</td>\n      <td>Dansk folkemelodi</td>\n      <td>None</td>\n    </tr>\n  </tbody>\n</table>\n<p>593 rows × 4 columns</p>\n</div>"
     },
     "metadata": {},
     "execution_count": 240
    }
   ],
   "source": [
    "song_data_df"
   ]
  },
  {
   "cell_type": "code",
   "execution_count": 239,
   "metadata": {},
   "outputs": [],
   "source": [
    "# Delete potenital rows containing leftover values from ','-split\n",
    "if len(song_data_df.columns) > 4:\n",
    "    del song_data_df[2]\n",
    "if len(song_data_df.columns) > 4:\n",
    "    del song_data_df[3]\n",
    "if len(song_data_df.columns) > 4:\n",
    "    del song_data_df[4]\n"
   ]
  },
  {
   "cell_type": "code",
   "execution_count": 241,
   "metadata": {},
   "outputs": [],
   "source": [
    "# Rename columns to something more understandable\n",
    "song_data_df.columns = ['songwriter', 'year_written', 'composer', 'year_composed']"
   ]
  },
  {
   "cell_type": "code",
   "execution_count": 242,
   "metadata": {},
   "outputs": [],
   "source": [
    "# Keep only one number in the 'year' columns\n",
    "for i in range(len(song_data_df)):\n",
    "    if song_data_df['year_composed'][i] == None:\n",
    "        song_data_df['year_composed'][i] = 'No data'\n",
    "    if song_data_df['year_written'][i] == None:\n",
    "        song_data_df['year_written'][i] = 'No data'\n",
    "    if re.search('\\d\\d\\d\\d', song_data_df['year_composed'][i]):\n",
    "        only_year_composed = re.search('\\d\\d\\d\\d', song_data_df['year_composed'][i]) \n",
    "        song_data_df['year_composed'][i] = only_year_composed.group()\n",
    "    if re.search('\\d\\d\\d\\d', song_data_df['year_written'][i]):\n",
    "        only_year_written = re.search('\\d\\d\\d\\d', song_data_df['year_written'][i]) \n",
    "        song_data_df['year_written'][i] = only_year_written.group()"
   ]
  },
  {
   "cell_type": "code",
   "execution_count": 243,
   "metadata": {},
   "outputs": [],
   "source": [
    "# Merging data with title and lyrics data\n",
    "clean_song_data = pd.merge(song_data_df, song_lyrics_df, left_index=True, right_index=True)"
   ]
  },
  {
   "cell_type": "code",
   "execution_count": 244,
   "metadata": {},
   "outputs": [
    {
     "output_type": "execute_result",
     "data": {
      "text/plain": [
       "                  songwriter year_written                  composer  \\\n",
       "0           N.F.S. Grundtvig         1826              C.E.F. Weyse   \n",
       "1     Hans Christensen Sthen         1589            August Winding   \n",
       "2               Thomas Kingo         1674              H.O.C. Zinck   \n",
       "3               Thomas Kingo         1674                   Hamburg   \n",
       "4           N.F.S. Grundtvig         1833                 Oluf Ring   \n",
       "..                       ...          ...                       ...   \n",
       "588              Ole Hyltoft         2008           Michael Bojesen   \n",
       "589          Suzanne Brøgger         2004   Katrine Muff Enevoldsen   \n",
       "590                               No data                             \n",
       "591        Halfdan Rasmussen         1954     Bent Fabricius-Bjerre   \n",
       "592           Fritz Andersen         1868         Dansk folkemelodi   \n",
       "\n",
       "    year_composed                                             lyrics  \\\n",
       "0            1826  Den signede dag    1. Den signede dag med fryd...   \n",
       "1            1874  Den mørke nat forgangen er    1. Den mørke nat...   \n",
       "2            1801  Nu rinder solen op    1. Nu rinder solen opaf ...   \n",
       "3            1690  Vågn op og slå på dine strenge    1. Vågn op o...   \n",
       "4            1932  Morgenhanen atter gol    1. Morgenhanen atter ...   \n",
       "..            ...                                                ...   \n",
       "588          2009  Nirvana    1. Aftenhavets brede bueer mit alte...   \n",
       "589          2016  Så, min sol, gå bare ned    1. Så, min sol, gå...   \n",
       "590       No data  Dagen slipper grebet    1. Dagen slipper grebe...   \n",
       "591          2015  Aftenbøn    1. Kom nat med søvn og hvile.Gør s...   \n",
       "592       No data  I skovens dybe stille ro    I skovens dybe, st...   \n",
       "\n",
       "                              title  \n",
       "0                   Den signede dag  \n",
       "1        Den mørke nat forgangen er  \n",
       "2                Nu rinder solen op  \n",
       "3    Vågn op og slå på dine strenge  \n",
       "4             Morgenhanen atter gol  \n",
       "..                              ...  \n",
       "588                         Nirvana  \n",
       "589        Så, min sol, gå bare ned  \n",
       "590            Dagen slipper grebet  \n",
       "591                        Aftenbøn  \n",
       "592        I skovens dybe stille ro  \n",
       "\n",
       "[593 rows x 6 columns]"
      ],
      "text/html": "<div>\n<style scoped>\n    .dataframe tbody tr th:only-of-type {\n        vertical-align: middle;\n    }\n\n    .dataframe tbody tr th {\n        vertical-align: top;\n    }\n\n    .dataframe thead th {\n        text-align: right;\n    }\n</style>\n<table border=\"1\" class=\"dataframe\">\n  <thead>\n    <tr style=\"text-align: right;\">\n      <th></th>\n      <th>songwriter</th>\n      <th>year_written</th>\n      <th>composer</th>\n      <th>year_composed</th>\n      <th>lyrics</th>\n      <th>title</th>\n    </tr>\n  </thead>\n  <tbody>\n    <tr>\n      <th>0</th>\n      <td>N.F.S. Grundtvig</td>\n      <td>1826</td>\n      <td>C.E.F. Weyse</td>\n      <td>1826</td>\n      <td>Den signede dag    1. Den signede dag med fryd...</td>\n      <td>Den signede dag</td>\n    </tr>\n    <tr>\n      <th>1</th>\n      <td>Hans Christensen Sthen</td>\n      <td>1589</td>\n      <td>August Winding</td>\n      <td>1874</td>\n      <td>Den mørke nat forgangen er    1. Den mørke nat...</td>\n      <td>Den mørke nat forgangen er</td>\n    </tr>\n    <tr>\n      <th>2</th>\n      <td>Thomas Kingo</td>\n      <td>1674</td>\n      <td>H.O.C. Zinck</td>\n      <td>1801</td>\n      <td>Nu rinder solen op    1. Nu rinder solen opaf ...</td>\n      <td>Nu rinder solen op</td>\n    </tr>\n    <tr>\n      <th>3</th>\n      <td>Thomas Kingo</td>\n      <td>1674</td>\n      <td>Hamburg</td>\n      <td>1690</td>\n      <td>Vågn op og slå på dine strenge    1. Vågn op o...</td>\n      <td>Vågn op og slå på dine strenge</td>\n    </tr>\n    <tr>\n      <th>4</th>\n      <td>N.F.S. Grundtvig</td>\n      <td>1833</td>\n      <td>Oluf Ring</td>\n      <td>1932</td>\n      <td>Morgenhanen atter gol    1. Morgenhanen atter ...</td>\n      <td>Morgenhanen atter gol</td>\n    </tr>\n    <tr>\n      <th>...</th>\n      <td>...</td>\n      <td>...</td>\n      <td>...</td>\n      <td>...</td>\n      <td>...</td>\n      <td>...</td>\n    </tr>\n    <tr>\n      <th>588</th>\n      <td>Ole Hyltoft</td>\n      <td>2008</td>\n      <td>Michael Bojesen</td>\n      <td>2009</td>\n      <td>Nirvana    1. Aftenhavets brede bueer mit alte...</td>\n      <td>Nirvana</td>\n    </tr>\n    <tr>\n      <th>589</th>\n      <td>Suzanne Brøgger</td>\n      <td>2004</td>\n      <td>Katrine Muff Enevoldsen</td>\n      <td>2016</td>\n      <td>Så, min sol, gå bare ned    1. Så, min sol, gå...</td>\n      <td>Så, min sol, gå bare ned</td>\n    </tr>\n    <tr>\n      <th>590</th>\n      <td></td>\n      <td>No data</td>\n      <td></td>\n      <td>No data</td>\n      <td>Dagen slipper grebet    1. Dagen slipper grebe...</td>\n      <td>Dagen slipper grebet</td>\n    </tr>\n    <tr>\n      <th>591</th>\n      <td>Halfdan Rasmussen</td>\n      <td>1954</td>\n      <td>Bent Fabricius-Bjerre</td>\n      <td>2015</td>\n      <td>Aftenbøn    1. Kom nat med søvn og hvile.Gør s...</td>\n      <td>Aftenbøn</td>\n    </tr>\n    <tr>\n      <th>592</th>\n      <td>Fritz Andersen</td>\n      <td>1868</td>\n      <td>Dansk folkemelodi</td>\n      <td>No data</td>\n      <td>I skovens dybe stille ro    I skovens dybe, st...</td>\n      <td>I skovens dybe stille ro</td>\n    </tr>\n  </tbody>\n</table>\n<p>593 rows × 6 columns</p>\n</div>"
     },
     "metadata": {},
     "execution_count": 244
    }
   ],
   "source": [
    "clean_song_data"
   ]
  },
  {
   "cell_type": "code",
   "execution_count": 245,
   "metadata": {},
   "outputs": [],
   "source": [
    "# Extracting to pdf\n",
    "clean_song_data.to_csv('Data/cleaned_data.csv')"
   ]
  },
  {
   "source": [
    "# Tokenising and creating BoW count matrix"
   ],
   "cell_type": "markdown",
   "metadata": {}
  },
  {
   "cell_type": "code",
   "execution_count": 246,
   "metadata": {},
   "outputs": [],
   "source": [
    "# Define tokenizer function that simultaneously strips away punctuation\n",
    "def tokenizer_better(text):    \n",
    "    punc_list = string.punctuation+'0123456789'\n",
    "    t = str.maketrans(dict.fromkeys(punc_list, ' '))\n",
    "    text = text.lower().translate(t)\n",
    "    tokens = word_tokenize(text)\n",
    "    return tokens"
   ]
  },
  {
   "cell_type": "code",
   "execution_count": 247,
   "metadata": {},
   "outputs": [],
   "source": [
    "# Defining vecotriser\n",
    "bow_vect = CountVectorizer(tokenizer = tokenizer_better)\n",
    "\n",
    "# Fit vectorizer to song lyrics\n",
    "bow_vect.fit(clean_song_data['lyrics'].values)\n",
    "\n",
    "# Transform lyrics into word count matrix\n",
    "bow_vect_lyrics = bow_vect.transform(clean_song_data['lyrics'].values)"
   ]
  },
  {
   "cell_type": "code",
   "execution_count": 248,
   "metadata": {},
   "outputs": [
    {
     "output_type": "stream",
     "name": "stdout",
     "text": [
      "Note after vectorization: \n  (0, 29)\t5\n  (0, 139)\t4\n  (0, 174)\t1\n  (0, 313)\t1\n  (0, 499)\t1\n  (0, 731)\t1\n  (0, 1219)\t1\n  (0, 1404)\t1\n  (0, 1407)\t2\n  (0, 1414)\t2\n  (0, 1522)\t2\n  (0, 1553)\t3\n  (0, 1561)\t1\n  (0, 1585)\t1\n  (0, 1613)\t1\n  (0, 1632)\t2\n  (0, 1658)\t1\n  (0, 1964)\t1\n  (0, 2221)\t3\n  (0, 2250)\t1\n  (0, 2270)\t1\n  (0, 2370)\t1\n  (0, 2798)\t3\n  (0, 3055)\t1\n  (0, 3077)\t1\n  :\t:\n  (0, 8518)\t1\n  (0, 8666)\t1\n  (0, 8900)\t5\n  (0, 8912)\t1\n  (0, 9293)\t1\n  (0, 9326)\t6\n  (0, 9372)\t1\n  (0, 9528)\t1\n  (0, 10059)\t1\n  (0, 10570)\t1\n  (0, 10760)\t1\n  (0, 11070)\t2\n  (0, 11359)\t1\n  (0, 11386)\t2\n  (0, 11428)\t5\n  (0, 11463)\t1\n  (0, 11475)\t1\n  (0, 11991)\t1\n  (0, 12272)\t1\n  (0, 12275)\t1\n  (0, 12453)\t2\n  (0, 12463)\t1\n  (0, 12493)\t1\n  (0, 12695)\t1\n  (0, 12863)\t1\n"
     ]
    }
   ],
   "source": [
    "print('Note after vectorization: \\n{}'.format(bow_vect_lyrics[1]))"
   ]
  },
  {
   "cell_type": "code",
   "execution_count": 249,
   "metadata": {},
   "outputs": [],
   "source": [
    "# Saving  vocabulary pkl file\n",
    "vocab_path = \"Data/song_vocabulary.pkl\"\n",
    "with open(vocab_path, 'wb') as fw:\n",
    "     joblib.dump(bow_vect.vocabulary_, fw)"
   ]
  },
  {
   "cell_type": "code",
   "execution_count": 250,
   "metadata": {},
   "outputs": [],
   "source": [
    "# Loading vacbulary back in and changing it to data frame\n",
    "vocab = np.load('Data/song_vocabulary.pkl', allow_pickle=True)\n",
    "\n",
    "# Changing vocabulary to pandas df\n",
    "vocab = pd.DataFrame(vocab.items())\n",
    "\n",
    "# Chaning column names\n",
    "vocab.columns = ['Vocab', 'Word']\n",
    "\n",
    "# Saving vocabulary df\n",
    "vocab.to_csv('Data/song_vocabulary.csv')"
   ]
  },
  {
   "cell_type": "code",
   "execution_count": 251,
   "metadata": {},
   "outputs": [],
   "source": [
    "# Turning sparse matrix into array and then pandas data frame\n",
    "bow_vect_lyrics_df = pd.DataFrame(bow_vect_lyrics.toarray())"
   ]
  },
  {
   "cell_type": "code",
   "execution_count": 252,
   "metadata": {},
   "outputs": [],
   "source": [
    "# Merging words counts with general song data\n",
    "clean_song_data_with_word_counts = pd.merge(clean_song_data, bow_vect_lyrics_df, left_index=True, right_index=True)"
   ]
  },
  {
   "cell_type": "code",
   "execution_count": 253,
   "metadata": {},
   "outputs": [],
   "source": [
    "# Saving full data set as csv file\n",
    "clean_song_data_with_word_counts.to_csv('Data/clean_song_data_with_word_counts.csv')"
   ]
  }
 ]
}